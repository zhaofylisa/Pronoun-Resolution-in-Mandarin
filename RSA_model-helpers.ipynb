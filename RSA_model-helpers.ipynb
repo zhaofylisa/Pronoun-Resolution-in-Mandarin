{
 "cells": [
  {
   "cell_type": "code",
   "execution_count": 3,
   "id": "6290e7f4",
   "metadata": {},
   "outputs": [],
   "source": [
    "import math\n",
    "import pandas as pd\n",
    "from functools import reduce\n",
    "import matplotlib.pyplot as plt\n",
    "import numpy as np\n",
    "import scipy.stats as statsf"
   ]
  },
  {
   "cell_type": "code",
   "execution_count": 4,
   "id": "69a7e06a",
   "metadata": {},
   "outputs": [],
   "source": [
    "\n",
    "W = ['Non-local NP', 'Local NP','Others']\n",
    "M = ['ta', 'taziji', 'ziji']"
   ]
  },
  {
   "cell_type": "markdown",
   "id": "2702b985",
   "metadata": {},
   "source": [
    "# Helper Functions"
   ]
  },
  {
   "cell_type": "code",
   "execution_count": 5,
   "id": "7463984f",
   "metadata": {},
   "outputs": [],
   "source": [
    "def makeDictionary(lst):\n",
    "    result = {}\n",
    "    for i in lst: \n",
    "        result[i] = None\n",
    "    return result\n"
   ]
  },
  {
   "cell_type": "code",
   "execution_count": 6,
   "id": "544910f5",
   "metadata": {},
   "outputs": [],
   "source": [
    "def assignProb(dic, key, value):\n",
    "    dic[key] = value\n",
    "    "
   ]
  },
  {
   "cell_type": "code",
   "execution_count": 7,
   "id": "1c342e1f",
   "metadata": {},
   "outputs": [],
   "source": [
    "def normalize(dic):\n",
    "    normalized = dic.copy()\n",
    "    for key,val in normalized.items():\n",
    "        norm = [float(i)/sum(val) if sum(val)!=0 else 0 for i in val]\n",
    "        normalized[key] = norm\n",
    "    return normalized"
   ]
  },
  {
   "cell_type": "code",
   "execution_count": 8,
   "id": "0e40dd76",
   "metadata": {},
   "outputs": [],
   "source": [
    "def getPairs(senID, data):\n",
    "    \n",
    "    '''\n",
    "    # input: senID(int), data(pandas dataframe)\n",
    "    # output: a dict, {'ziji': ['Speaker', 'Clause Subject'],'taziji': ['Clause Subject'], 'ta': ['Speaker', 'Others']}\n",
    "    '''  \n",
    "    \n",
    "    data2 = data[(data.experiment==\"posterior\") & (data.senID == senID)]\n",
    "    #print(data2)\n",
    "    \n",
    "    Pairs = makeDictionary(M)\n",
    "    for m in M:\n",
    "        a = list(data2.loc[data2[\"condition\"] == m,'selection'])\n",
    "        Pairs[m] = a\n",
    "        \n",
    "    return Pairs\n"
   ]
  },
  {
   "cell_type": "markdown",
   "id": "7eec519e",
   "metadata": {},
   "source": [
    "#### Message Cost\n",
    "$Cost(m) = log(P(m))$"
   ]
  },
  {
   "cell_type": "code",
   "execution_count": 9,
   "id": "c58bc424",
   "metadata": {},
   "outputs": [],
   "source": [
    "def getCost(P_ziji, P_taziji, P_ta):\n",
    "    \n",
    "    '''\n",
    "    # input: three prior possibilities in floats\n",
    "    # output: a dict, like {'ziji': (float), 'taziji': (float), 'ta': (float)}\n",
    "    '''    \n",
    "    \n",
    "    P_M = makeDictionary(M)\n",
    "    assignProb(P_M, \"ziji\", P_ziji)\n",
    "    assignProb(P_M, \"taziji\", P_taziji)\n",
    "    assignProb(P_M, \"ta\", P_ta)\n",
    "    cost = {key: math.log(val) for key,val in P_M.items()}\n",
    "    \n",
    "    return P_M, cost\n"
   ]
  },
  {
   "cell_type": "code",
   "execution_count": 10,
   "id": "17a769ae",
   "metadata": {},
   "outputs": [],
   "source": [
    "def printCost(P_M, Cost):\n",
    "    print(\"Cost\")\n",
    "    print(\"{:<8} {:<10} {:<10}\".format('M','P(m)', 'Cost'))\n",
    "    for k, v in P_M.items():\n",
    "        prob = v\n",
    "        print(\"{:<8} {:<10} {:<10}\".format(k, round(prob,5), round(Cost[k],5)))\n",
    "        "
   ]
  },
  {
   "cell_type": "markdown",
   "id": "f79c7edd",
   "metadata": {},
   "source": [
    "#### Prior probability for each world state\n",
    "$P(w)$"
   ]
  },
  {
   "cell_type": "code",
   "execution_count": 11,
   "id": "393bdfb9",
   "metadata": {},
   "outputs": [],
   "source": [
    "def getPrior(senID, data):\n",
    "    \n",
    "    '''\n",
    "    # input: senID(int), data(pandas dataframe)\n",
    "    # output: a dict, {'Speaker': (float), 'Clause Subject': (float), 'Others':  (float)}\n",
    "    '''  \n",
    "    \n",
    "    data2 = data[(data.experiment==\"prior\") & (data.senID == senID)]\n",
    "    #print(data2)\n",
    "    \n",
    "    P_W = makeDictionary(W)\n",
    "    for w in W:\n",
    "        prior = float(data2.loc[data2['selection']== w,'Prob'])\n",
    "        assignProb(P_W, w, prior)\n",
    "\n",
    "    return P_W\n"
   ]
  },
  {
   "cell_type": "code",
   "execution_count": 12,
   "id": "4f80083f",
   "metadata": {},
   "outputs": [],
   "source": [
    "def printPrior(P_W):\n",
    "    # Print in table\n",
    "    print(\"P_W\")\n",
    "    print(\"{:<14} {:<10}\".format('M','P(w)'))\n",
    "    for k, v in P_W.items():\n",
    "        prob = v\n",
    "        print(\"{:<14} {:<10}\".format(k, round(prob,5)))\n",
    "        "
   ]
  },
  {
   "cell_type": "markdown",
   "id": "4012e414",
   "metadata": {},
   "source": [
    "#### Literal Listener (normalize)\n",
    "$P_{LL}(w|[m]) = \\frac{P(w,[m])}{P([m])}$"
   ]
  },
  {
   "cell_type": "code",
   "execution_count": 10,
   "id": "0faac559",
   "metadata": {},
   "outputs": [],
   "source": [
    "def LiteralListener(P_W, Pairs):\n",
    "    \n",
    "    '''\n",
    "    # input1: P_W, a dict, {'Speaker': (float), 'Clause Subject': (float), 'Others':  (float)}\n",
    "    # input2: Pairs, a dict, {'ziji': ['Speaker', 'Clause Subject'],'taziji': ['Clause Subject'], 'ta': ['Speaker', 'Others']}\n",
    "    # output: a dict, {'ziji': [(float),(float),(float)], 'taziji': [(float),(float),(float)], 'ta': [(float),(float),(float)]} \n",
    "    '''  \n",
    "    \n",
    "    dic = makeDictionary(M)\n",
    "    for key,val in dic.items():\n",
    "        worlds = Pairs[key]\n",
    "        total = reduce(lambda acc,e: acc + P_W[e] , worlds ,0)\n",
    "        normalize = []\n",
    "        for w in W:\n",
    "            if w in worlds: normalize.append(P_W[w]/total)\n",
    "            else: normalize.append(0)\n",
    "        dic[key] = normalize\n",
    "    return dic\n"
   ]
  },
  {
   "cell_type": "code",
   "execution_count": 11,
   "id": "1532ff4b",
   "metadata": {},
   "outputs": [],
   "source": [
    "def printLL(literal):\n",
    "    # Print in table\n",
    "    print(\"P_LL(w|m)\")\n",
    "\n",
    "    print(\"{:<7} {:<8} {:<10} {:<13}\".format('M','Speaker','Clause Subject','Others'))\n",
    "    for k, v in literal.items():\n",
    "        w1, w2, w3 = v\n",
    "        print(\"{:<8} {:<10} {:<12} {:<13}\".format(k, round(w1,5), round(w2,5), round(w3,5)))\n",
    "        "
   ]
  },
  {
   "cell_type": "markdown",
   "id": "92131e37",
   "metadata": {},
   "source": [
    "#### Speaker Utility\n",
    "$U_s(m,w) = ln(P_{LL}(w|m))+Cost(m)$"
   ]
  },
  {
   "cell_type": "code",
   "execution_count": 12,
   "id": "5eee3167",
   "metadata": {},
   "outputs": [],
   "source": [
    "def getUtility(Cost, literal):\n",
    "    '''\n",
    "    # input1: Cost, a dict, {'ziji': (float), 'taziji': (float), 'ta': (float)}\n",
    "    # input2: literal, a dict, {'ziji': [(float),(float),(float)], 'taziji': [(float),(float),(float)], 'ta': [(float),(float), (float)]} \n",
    "    # output: {'ziji': [(float or \"-inf\"),(float or \"-inf\"),(float or \"-inf\")], 'taziji': [(float or \"-inf\"),(float or \"-inf\"),(float or \"-inf\")], 'ta': [(float or \"-inf\"),(float or \"-inf\"),(float or \"-inf\")]}\n",
    "    '''  \n",
    "    \n",
    "    Utility = {key: list(map(lambda e: math.log(e)+Cost[key] if e > 0 else float('-inf'), val)) \n",
    "               for key,val in literal.items()}\n",
    "    return Utility\n",
    "\n"
   ]
  },
  {
   "cell_type": "code",
   "execution_count": 13,
   "id": "015186ae",
   "metadata": {},
   "outputs": [],
   "source": [
    "def printUtility(Utility):\n",
    "    print(\"U_s(m,w)\")\n",
    "\n",
    "    print(\"{:<7} {:<8} {:<10} {:<13}\".format('M','Speaker','Clause Subject','Others'))\n",
    "    for k, v in Utility.items():\n",
    "        w1, w2, w3 = v\n",
    "        print(\"{:<8} {:<10} {:<12} {:<13}\".format(k, round(w1,5), round(w2,5), round(w3,5)))\n",
    "        "
   ]
  },
  {
   "cell_type": "markdown",
   "id": "b1b19b3a",
   "metadata": {},
   "source": [
    "#### Speaker Probability (Likelihood)\n",
    "$P_s(m|w) \\propto exp(\\alpha \\times U_s(m,w))$"
   ]
  },
  {
   "cell_type": "code",
   "execution_count": 14,
   "id": "8c18733c",
   "metadata": {},
   "outputs": [],
   "source": [
    "def getSoftmax(alpha, Utility):\n",
    "    '''\n",
    "    # input1: alpha, a float\n",
    "    # input2: Utility, a dict, {'ziji': [(float or \"-inf\"),(float or \"-inf\"),(float or \"-inf\")], 'taziji': [(float or \"-inf\"),(float or \"-inf\"),(float or \"-inf\")], 'ta': [(float or \"-inf\"),(float or \"-inf\"),(float or \"-inf\")]}\n",
    "    # output: {'Speaker': [(float), (float), (float)], 'Clause Subject': [(float),(float),(float)], 'Others': [(float),(float),(float)]}\n",
    "    '''  \n",
    "    \n",
    "    # alpha: ex:0-10; search between the range with step(0.1), do by-item correlation among all values, find the alpha that has the highest correlation\n",
    "    \n",
    "    Softmax = dict.fromkeys(W, [])\n",
    "    values = list(Utility.values())\n",
    "    for w in W:\n",
    "        i = W.index(w)\n",
    "        Softmax[w] = [math.exp(alpha*item[i]) if item[i] !='-inf' else 0 for item in values]\n",
    "        \n",
    "    return Softmax\n"
   ]
  },
  {
   "cell_type": "code",
   "execution_count": 2,
   "id": "cffdccb4",
   "metadata": {},
   "outputs": [],
   "source": [
    "def getLikelihood(senID, data, alpha, P_ziji, P_taziji, P_ta):\n",
    "    \n",
    "    \n",
    "    P_M, Cost = getCost(P_ziji, P_taziji, P_ta)\n",
    "    #printCost(P_M, Cost)\n",
    "    \n",
    "    # actual grammar\n",
    "    if data[(data.senID == senID)]['type'].to_list()[0]=='possessor':\n",
    "        Pairs = {'ziji': ['Non-local NP', 'Local NP'],'taziji': ['Local NP'],'ta': ['Non-local NP', 'Local NP', 'Others']}\n",
    "\n",
    "        #Pairs = {'ziji': ['Subject', 'Clause Subject'],'taziji': ['Clause Subject'],'ta': ['Speaker', 'Clause Subject', 'Others']}\n",
    "    else:\n",
    "        #Pairs = {'ziji': ['Speaker', 'Clause Subject'],'taziji': ['Clause Subject'],'ta': ['Speaker', 'Others']}\n",
    "        Pairs = {'ziji': ['Non-local NP', 'Local NP'],'taziji': ['Local NP'],'ta': ['Non-local NP','Others']}\n",
    "    \n",
    "    \n",
    "    #Pairs = getPairs(senID,data) #grammar from the experiment\n",
    "    \n",
    "    P_W = getPrior(senID,data)\n",
    "    #printPrior(P_W)\n",
    "    literal = LiteralListener(P_W, Pairs) #try to take the serious grammar instead of the pairs, how strongly people consult the grammar rule\n",
    "    #printLL(literal)\n",
    "    Utility = getUtility(Cost, literal)\n",
    "    #printUtility(Utility)\n",
    "    Softmax = getSoftmax(alpha, Utility)\n",
    "    #printLikelihood(Softmax)\n",
    "    \n",
    "    return Softmax\n",
    "    "
   ]
  },
  {
   "cell_type": "code",
   "execution_count": 16,
   "id": "c83df030",
   "metadata": {},
   "outputs": [],
   "source": [
    "def printLikelihood(Softmax):\n",
    "    print(\"P_s(m|w) - likelihood\")\n",
    "    print(\"{:<14} {:<12} {:<12} {:<12}\".format('W','ziji','taziji','ta'))\n",
    "    for k, v in Softmax.items():\n",
    "\n",
    "        m1, m2, m3 = v\n",
    "        print(\"{:<14} {:<12} {:<12} {:<12}\".format(k, round(m1,5), round(m2,5), round(m3,5)))"
   ]
  },
  {
   "cell_type": "markdown",
   "id": "dbeadad7",
   "metadata": {},
   "source": [
    "#### Rational Listener Interpretation\n",
    "$P_L(w|m) \\propto P(w) \\times P_s(m|w)$"
   ]
  },
  {
   "cell_type": "code",
   "execution_count": 17,
   "id": "f4dd6a0d",
   "metadata": {},
   "outputs": [],
   "source": [
    "def RationalListener(P_W, Softmax):\n",
    "    '''\n",
    "    # input: P_W a dict, {'Speaker': (float), 'Clause Subject': (float), 'Others':  (float)}\n",
    "    # output: a dict, {'ziji': [(float),(float),(float)], 'taziji': [(float),(float),(float)], 'ta': [(float),(float),(float)]} \n",
    "    '''  \n",
    "    \n",
    "    rational = Softmax.copy()\n",
    "    for key, val in Softmax.items():\n",
    "        rational[key] = [x * P_W[key] for x in val]\n",
    "    \n",
    "    rational_new = dict.fromkeys(M, [])\n",
    "    values = list(rational.values())\n",
    "    \n",
    "    for m in M:\n",
    "        i = M.index(m)\n",
    "        rational_new[m] = [item[i] for item in values]\n",
    "    \n",
    "    return rational_new\n",
    "\n"
   ]
  },
  {
   "cell_type": "code",
   "execution_count": 18,
   "id": "dc534869",
   "metadata": {},
   "outputs": [],
   "source": [
    "def printRational(Rational):\n",
    "    print(\"P_L(w|m)\")\n",
    "    print(\"{:<14} {:<8} {:<10} {:<13}\".format('M','Speaker','Clause Subject','Others'))\n",
    "    for k, v in Rational.items():\n",
    "        w1, w2, w3 = v\n",
    "        print(\"{:<14} {:<10} {:<12} {:<13}\".format(k, round(w1,5), round(w2,5), round(w3,5)))"
   ]
  },
  {
   "cell_type": "code",
   "execution_count": 19,
   "id": "15c071bb",
   "metadata": {},
   "outputs": [],
   "source": [
    "def RationalListener_Normalized(P_W, Softmax):\n",
    "    \n",
    "    '''\n",
    "    # input: a dict, {'ziji': [(float),(float),(float)], 'taziji': [(float),(float),(float)], 'ta': [(float),(float),(float)]} \n",
    "    # output: a dict, {'ziji': [(float),(float),(float)], 'taziji': [(float),(float),(float)], 'ta': [(float),(float),(float)]} \n",
    "    '''  \n",
    "    rational = RationalListener(P_W, Softmax)\n",
    "    normalized = normalize(rational)\n",
    "    return normalized\n"
   ]
  },
  {
   "cell_type": "code",
   "execution_count": 20,
   "id": "75407586",
   "metadata": {},
   "outputs": [],
   "source": [
    "def printNormalizedRational(Normalized):\n",
    "    print(\"Normalized P_L(w|m)\")\n",
    "    print(\"{:<14} {:<8} {:<10} {:<13}\".format('M','Speaker','Clause Subject','Others'))\n",
    "    for k, v in Normalized.items():\n",
    "        w1, w2, w3 = v\n",
    "        print(\"{:<14} {:<10} {:<12} {:<13}\".format(k, round(w1,5), round(w2,5), round(w3,5)))"
   ]
  },
  {
   "cell_type": "code",
   "execution_count": 21,
   "id": "4dae6692",
   "metadata": {},
   "outputs": [],
   "source": [
    "# data = pd.read_csv(\"final_data_bySenID.csv\", index_col=[0])\n",
    "# W = [\"Speaker\",\"Clause Subject\",\"Others\"]\n",
    "# M = [\"ziji\",\"taziji\", \"ta\"]\n",
    "\n",
    "# Pairs = getPairs(16,data)\n",
    "# P_ziji = 309053/1046136\n",
    "# P_taziji = 1503/1046136\n",
    "# P_ta = 735580/1046136\n",
    "# P_M, Cost = getCost(P_ziji, P_taziji, P_ta)\n",
    "# P_W = getPrior(16,data)\n",
    "# literal = LiteralListener(P_W, Pairs)\n",
    "# Utility = getUtility(Cost, literal)\n",
    "# Softmax = normalize(getSoftmax(0.93, Utility))\n",
    "# Rational = RationalListener(P_W,Softmax)\n",
    "# Normalized = RationalListener_Normalized(Rational)"
   ]
  },
  {
   "cell_type": "code",
   "execution_count": 100,
   "id": "fc8df307",
   "metadata": {},
   "outputs": [],
   "source": [
    "#printRational(Rational)"
   ]
  },
  {
   "cell_type": "code",
   "execution_count": 101,
   "id": "d0d6d820",
   "metadata": {},
   "outputs": [],
   "source": [
    "#printNormalizedRational(Normalized)"
   ]
  },
  {
   "cell_type": "code",
   "execution_count": 38,
   "id": "4a91785d",
   "metadata": {},
   "outputs": [],
   "source": [
    "# S_pr = 0.383\n",
    "# CS_pr = 0.202\n",
    "# O_pr = 0.414\n",
    "# P_ziji = 309053/1046136\n",
    "# P_taziji = 1503/1046136\n",
    "# P_ta = 735580/1046136\n",
    "# W = [\"Speaker\",\"Clause Subject\",\"Others\"]\n",
    "# M = [\"ziji\",\"taziji\", \"ta\"]\n",
    "# P_M, Cost = getCost(P_ziji, P_taziji, P_ta)\n",
    "\n",
    "# P_W = {'Speaker': S_pr, 'Clause Subject': CS_pr, 'Others':  O_pr}\n",
    "# Pairs = {'ziji': ['Speaker', 'Clause Subject','Others'],'taziji': ['Speaker','Clause Subject','Others'], 'ta': ['Speaker', 'Clause Subject','Others']}\n",
    "\n",
    "# literal = LiteralListener(P_W, Pairs)\n",
    "# Utility = getUtility(Cost, literal)\n",
    "# Softmax = normalize(getSoftmax(0.93, Utility))\n",
    "# #Rational = RationalListener(P_W,Softmax)\n",
    "# Normalized = RationalListener_Normalized(P_W, Softmax)\n",
    "# Normalized\n",
    "# printRational(Normalized)\n"
   ]
  },
  {
   "cell_type": "code",
   "execution_count": null,
   "id": "6e8d168b",
   "metadata": {},
   "outputs": [],
   "source": []
  },
  {
   "cell_type": "code",
   "execution_count": null,
   "id": "e9befd72",
   "metadata": {},
   "outputs": [],
   "source": []
  },
  {
   "cell_type": "code",
   "execution_count": null,
   "id": "e526618d",
   "metadata": {},
   "outputs": [],
   "source": []
  },
  {
   "cell_type": "code",
   "execution_count": null,
   "id": "765eb505",
   "metadata": {},
   "outputs": [],
   "source": []
  }
 ],
 "metadata": {
  "kernelspec": {
   "display_name": "Python 3 (ipykernel)",
   "language": "python",
   "name": "python3"
  },
  "language_info": {
   "codemirror_mode": {
    "name": "ipython",
    "version": 3
   },
   "file_extension": ".py",
   "mimetype": "text/x-python",
   "name": "python",
   "nbconvert_exporter": "python",
   "pygments_lexer": "ipython3",
   "version": "3.8.8"
  }
 },
 "nbformat": 4,
 "nbformat_minor": 5
}
